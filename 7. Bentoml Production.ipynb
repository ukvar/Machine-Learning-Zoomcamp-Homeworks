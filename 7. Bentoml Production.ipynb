{
 "cells": [
  {
   "cell_type": "markdown",
   "metadata": {
    "id": "LbmqSBHvSDHV"
   },
   "source": [
    "# **Homework 7**\n",
    "\n",
    "Note: sometimes your answer might not match one of the options exactly. That's fine. Select the option that's closest to your solution.\n",
    "\n",
    "The goal of this homework is to familiarize you with BentoML and how to build and test an ML production service.\n"
   ]
  },
  {
   "cell_type": "markdown",
   "metadata": {
    "id": "JoaynT2wSLeL"
   },
   "source": [
    "**Background**\n",
    "\n",
    "You are a new recruit at ACME corp. Your manager is emailing you about your first assignment."
   ]
  },
  {
   "cell_type": "markdown",
   "metadata": {
    "id": "ARh-FdVRSPvF"
   },
   "source": [
    "**Email from your manager**\n",
    "\n",
    "Good morning recruit! It's good to have you here! I have an assignment for you. I have a data scientist that's built a credit risk model in a jupyter notebook. I need you to run the notebook and save the model with BentoML and see how big the model is. If it's greater than a certain size, I'm going to have to request additional resources from our infra team. Please let me know how big it is.\n",
    "\n",
    "Thanks,\n",
    "\n",
    "Mr McManager"
   ]
  },
  {
   "cell_type": "code",
   "execution_count": 1,
   "metadata": {
    "id": "gOny7dmmMhEP"
   },
   "outputs": [],
   "source": [
    "import pandas as pd\n",
    "import numpy as np\n",
    "\n",
    "from sklearn.model_selection import train_test_split\n",
    "from sklearn.feature_extraction import DictVectorizer\n",
    "from sklearn.metrics import roc_auc_score\n",
    "from sklearn.ensemble import RandomForestClassifier\n",
    "\n",
    "import xgboost as xgb"
   ]
  },
  {
   "cell_type": "code",
   "execution_count": 2,
   "metadata": {
    "id": "151Nf6YSMmcw"
   },
   "outputs": [],
   "source": [
    "data = 'https://raw.githubusercontent.com/alexeygrigorev/mlbookcamp-code/master/chapter-06-trees/CreditScoring.csv'\n",
    "df = pd.read_csv(data)"
   ]
  },
  {
   "cell_type": "code",
   "execution_count": 3,
   "metadata": {
    "colab": {
     "base_uri": "https://localhost:8080/",
     "height": 206
    },
    "id": "epsEB0yHNa--",
    "outputId": "434bedc0-4a3f-4a0a-db93-f83d976e6c51",
    "scrolled": true
   },
   "outputs": [
    {
     "data": {
      "text/html": [
       "<div>\n",
       "<style scoped>\n",
       "    .dataframe tbody tr th:only-of-type {\n",
       "        vertical-align: middle;\n",
       "    }\n",
       "\n",
       "    .dataframe tbody tr th {\n",
       "        vertical-align: top;\n",
       "    }\n",
       "\n",
       "    .dataframe thead th {\n",
       "        text-align: right;\n",
       "    }\n",
       "</style>\n",
       "<table border=\"1\" class=\"dataframe\">\n",
       "  <thead>\n",
       "    <tr style=\"text-align: right;\">\n",
       "      <th></th>\n",
       "      <th>Status</th>\n",
       "      <th>Seniority</th>\n",
       "      <th>Home</th>\n",
       "      <th>Time</th>\n",
       "      <th>Age</th>\n",
       "      <th>Marital</th>\n",
       "      <th>Records</th>\n",
       "      <th>Job</th>\n",
       "      <th>Expenses</th>\n",
       "      <th>Income</th>\n",
       "      <th>Assets</th>\n",
       "      <th>Debt</th>\n",
       "      <th>Amount</th>\n",
       "      <th>Price</th>\n",
       "    </tr>\n",
       "  </thead>\n",
       "  <tbody>\n",
       "    <tr>\n",
       "      <th>0</th>\n",
       "      <td>1</td>\n",
       "      <td>9</td>\n",
       "      <td>1</td>\n",
       "      <td>60</td>\n",
       "      <td>30</td>\n",
       "      <td>2</td>\n",
       "      <td>1</td>\n",
       "      <td>3</td>\n",
       "      <td>73</td>\n",
       "      <td>129</td>\n",
       "      <td>0</td>\n",
       "      <td>0</td>\n",
       "      <td>800</td>\n",
       "      <td>846</td>\n",
       "    </tr>\n",
       "    <tr>\n",
       "      <th>1</th>\n",
       "      <td>1</td>\n",
       "      <td>17</td>\n",
       "      <td>1</td>\n",
       "      <td>60</td>\n",
       "      <td>58</td>\n",
       "      <td>3</td>\n",
       "      <td>1</td>\n",
       "      <td>1</td>\n",
       "      <td>48</td>\n",
       "      <td>131</td>\n",
       "      <td>0</td>\n",
       "      <td>0</td>\n",
       "      <td>1000</td>\n",
       "      <td>1658</td>\n",
       "    </tr>\n",
       "    <tr>\n",
       "      <th>2</th>\n",
       "      <td>2</td>\n",
       "      <td>10</td>\n",
       "      <td>2</td>\n",
       "      <td>36</td>\n",
       "      <td>46</td>\n",
       "      <td>2</td>\n",
       "      <td>2</td>\n",
       "      <td>3</td>\n",
       "      <td>90</td>\n",
       "      <td>200</td>\n",
       "      <td>3000</td>\n",
       "      <td>0</td>\n",
       "      <td>2000</td>\n",
       "      <td>2985</td>\n",
       "    </tr>\n",
       "    <tr>\n",
       "      <th>3</th>\n",
       "      <td>1</td>\n",
       "      <td>0</td>\n",
       "      <td>1</td>\n",
       "      <td>60</td>\n",
       "      <td>24</td>\n",
       "      <td>1</td>\n",
       "      <td>1</td>\n",
       "      <td>1</td>\n",
       "      <td>63</td>\n",
       "      <td>182</td>\n",
       "      <td>2500</td>\n",
       "      <td>0</td>\n",
       "      <td>900</td>\n",
       "      <td>1325</td>\n",
       "    </tr>\n",
       "    <tr>\n",
       "      <th>4</th>\n",
       "      <td>1</td>\n",
       "      <td>0</td>\n",
       "      <td>1</td>\n",
       "      <td>36</td>\n",
       "      <td>26</td>\n",
       "      <td>1</td>\n",
       "      <td>1</td>\n",
       "      <td>1</td>\n",
       "      <td>46</td>\n",
       "      <td>107</td>\n",
       "      <td>0</td>\n",
       "      <td>0</td>\n",
       "      <td>310</td>\n",
       "      <td>910</td>\n",
       "    </tr>\n",
       "  </tbody>\n",
       "</table>\n",
       "</div>"
      ],
      "text/plain": [
       "   Status  Seniority  Home  Time  Age  Marital  Records  Job  Expenses  \\\n",
       "0       1          9     1    60   30        2        1    3        73   \n",
       "1       1         17     1    60   58        3        1    1        48   \n",
       "2       2         10     2    36   46        2        2    3        90   \n",
       "3       1          0     1    60   24        1        1    1        63   \n",
       "4       1          0     1    36   26        1        1    1        46   \n",
       "\n",
       "   Income  Assets  Debt  Amount  Price  \n",
       "0     129       0     0     800    846  \n",
       "1     131       0     0    1000   1658  \n",
       "2     200    3000     0    2000   2985  \n",
       "3     182    2500     0     900   1325  \n",
       "4     107       0     0     310    910  "
      ]
     },
     "execution_count": 3,
     "metadata": {},
     "output_type": "execute_result"
    }
   ],
   "source": [
    "df.head()"
   ]
  },
  {
   "cell_type": "code",
   "execution_count": 4,
   "metadata": {
    "id": "rhmPcSOZMsyW"
   },
   "outputs": [],
   "source": [
    "df.columns = df.columns.str.lower()\n",
    "\n",
    "status_values = {\n",
    "    1: 'ok',\n",
    "    2: 'default',\n",
    "    0: 'unk'\n",
    "}\n",
    "\n",
    "df.status = df.status.map(status_values)\n",
    "\n",
    "home_values = {\n",
    "    1: 'rent',\n",
    "    2: 'owner',\n",
    "    3: 'private',\n",
    "    4: 'ignore',\n",
    "    5: 'parents',\n",
    "    6: 'other',\n",
    "    0: 'unk'\n",
    "}\n",
    "\n",
    "df.home = df.home.map(home_values)\n",
    "\n",
    "marital_values = {\n",
    "    1: 'single',\n",
    "    2: 'married',\n",
    "    3: 'widow',\n",
    "    4: 'separated',\n",
    "    5: 'divorced',\n",
    "    0: 'unk'\n",
    "}\n",
    "\n",
    "df.marital = df.marital.map(marital_values)\n",
    "\n",
    "records_values = {\n",
    "    1: 'no',\n",
    "    2: 'yes',\n",
    "    0: 'unk'\n",
    "}\n",
    "\n",
    "df.records = df.records.map(records_values)\n",
    "\n",
    "job_values = {\n",
    "    1: 'fixed',\n",
    "    2: 'partime',\n",
    "    3: 'freelance',\n",
    "    4: 'others',\n",
    "    0: 'unk'\n",
    "}\n",
    "\n",
    "df.job = df.job.map(job_values)\n",
    "\n",
    "for c in ['income', 'assets', 'debt']:\n",
    "    df[c] = df[c].replace(to_replace=99999999, value=np.nan)\n",
    "\n",
    "df = df[df.status != 'unk'].reset_index(drop=True)"
   ]
  },
  {
   "cell_type": "code",
   "execution_count": 5,
   "metadata": {
    "colab": {
     "base_uri": "https://localhost:8080/",
     "height": 206
    },
    "id": "kBWwO9n5Nvsb",
    "outputId": "9a350ac1-7947-4960-80f7-aa1f089a2114"
   },
   "outputs": [
    {
     "data": {
      "text/html": [
       "<div>\n",
       "<style scoped>\n",
       "    .dataframe tbody tr th:only-of-type {\n",
       "        vertical-align: middle;\n",
       "    }\n",
       "\n",
       "    .dataframe tbody tr th {\n",
       "        vertical-align: top;\n",
       "    }\n",
       "\n",
       "    .dataframe thead th {\n",
       "        text-align: right;\n",
       "    }\n",
       "</style>\n",
       "<table border=\"1\" class=\"dataframe\">\n",
       "  <thead>\n",
       "    <tr style=\"text-align: right;\">\n",
       "      <th></th>\n",
       "      <th>status</th>\n",
       "      <th>seniority</th>\n",
       "      <th>home</th>\n",
       "      <th>time</th>\n",
       "      <th>age</th>\n",
       "      <th>marital</th>\n",
       "      <th>records</th>\n",
       "      <th>job</th>\n",
       "      <th>expenses</th>\n",
       "      <th>income</th>\n",
       "      <th>assets</th>\n",
       "      <th>debt</th>\n",
       "      <th>amount</th>\n",
       "      <th>price</th>\n",
       "    </tr>\n",
       "  </thead>\n",
       "  <tbody>\n",
       "    <tr>\n",
       "      <th>0</th>\n",
       "      <td>ok</td>\n",
       "      <td>9</td>\n",
       "      <td>rent</td>\n",
       "      <td>60</td>\n",
       "      <td>30</td>\n",
       "      <td>married</td>\n",
       "      <td>no</td>\n",
       "      <td>freelance</td>\n",
       "      <td>73</td>\n",
       "      <td>129.0</td>\n",
       "      <td>0.0</td>\n",
       "      <td>0.0</td>\n",
       "      <td>800</td>\n",
       "      <td>846</td>\n",
       "    </tr>\n",
       "    <tr>\n",
       "      <th>1</th>\n",
       "      <td>ok</td>\n",
       "      <td>17</td>\n",
       "      <td>rent</td>\n",
       "      <td>60</td>\n",
       "      <td>58</td>\n",
       "      <td>widow</td>\n",
       "      <td>no</td>\n",
       "      <td>fixed</td>\n",
       "      <td>48</td>\n",
       "      <td>131.0</td>\n",
       "      <td>0.0</td>\n",
       "      <td>0.0</td>\n",
       "      <td>1000</td>\n",
       "      <td>1658</td>\n",
       "    </tr>\n",
       "    <tr>\n",
       "      <th>2</th>\n",
       "      <td>default</td>\n",
       "      <td>10</td>\n",
       "      <td>owner</td>\n",
       "      <td>36</td>\n",
       "      <td>46</td>\n",
       "      <td>married</td>\n",
       "      <td>yes</td>\n",
       "      <td>freelance</td>\n",
       "      <td>90</td>\n",
       "      <td>200.0</td>\n",
       "      <td>3000.0</td>\n",
       "      <td>0.0</td>\n",
       "      <td>2000</td>\n",
       "      <td>2985</td>\n",
       "    </tr>\n",
       "    <tr>\n",
       "      <th>3</th>\n",
       "      <td>ok</td>\n",
       "      <td>0</td>\n",
       "      <td>rent</td>\n",
       "      <td>60</td>\n",
       "      <td>24</td>\n",
       "      <td>single</td>\n",
       "      <td>no</td>\n",
       "      <td>fixed</td>\n",
       "      <td>63</td>\n",
       "      <td>182.0</td>\n",
       "      <td>2500.0</td>\n",
       "      <td>0.0</td>\n",
       "      <td>900</td>\n",
       "      <td>1325</td>\n",
       "    </tr>\n",
       "    <tr>\n",
       "      <th>4</th>\n",
       "      <td>ok</td>\n",
       "      <td>0</td>\n",
       "      <td>rent</td>\n",
       "      <td>36</td>\n",
       "      <td>26</td>\n",
       "      <td>single</td>\n",
       "      <td>no</td>\n",
       "      <td>fixed</td>\n",
       "      <td>46</td>\n",
       "      <td>107.0</td>\n",
       "      <td>0.0</td>\n",
       "      <td>0.0</td>\n",
       "      <td>310</td>\n",
       "      <td>910</td>\n",
       "    </tr>\n",
       "  </tbody>\n",
       "</table>\n",
       "</div>"
      ],
      "text/plain": [
       "    status  seniority   home  time  age  marital records        job  expenses  \\\n",
       "0       ok          9   rent    60   30  married      no  freelance        73   \n",
       "1       ok         17   rent    60   58    widow      no      fixed        48   \n",
       "2  default         10  owner    36   46  married     yes  freelance        90   \n",
       "3       ok          0   rent    60   24   single      no      fixed        63   \n",
       "4       ok          0   rent    36   26   single      no      fixed        46   \n",
       "\n",
       "   income  assets  debt  amount  price  \n",
       "0   129.0     0.0   0.0     800    846  \n",
       "1   131.0     0.0   0.0    1000   1658  \n",
       "2   200.0  3000.0   0.0    2000   2985  \n",
       "3   182.0  2500.0   0.0     900   1325  \n",
       "4   107.0     0.0   0.0     310    910  "
      ]
     },
     "execution_count": 5,
     "metadata": {},
     "output_type": "execute_result"
    }
   ],
   "source": [
    "df.head()"
   ]
  },
  {
   "cell_type": "code",
   "execution_count": 6,
   "metadata": {
    "colab": {
     "base_uri": "https://localhost:8080/",
     "height": 300
    },
    "id": "ZgwlcjQsN9O1",
    "outputId": "4f100cc1-f06b-49be-b3f8-d4e3d66789ff"
   },
   "outputs": [
    {
     "data": {
      "text/html": [
       "<div>\n",
       "<style scoped>\n",
       "    .dataframe tbody tr th:only-of-type {\n",
       "        vertical-align: middle;\n",
       "    }\n",
       "\n",
       "    .dataframe tbody tr th {\n",
       "        vertical-align: top;\n",
       "    }\n",
       "\n",
       "    .dataframe thead th {\n",
       "        text-align: right;\n",
       "    }\n",
       "</style>\n",
       "<table border=\"1\" class=\"dataframe\">\n",
       "  <thead>\n",
       "    <tr style=\"text-align: right;\">\n",
       "      <th></th>\n",
       "      <th>seniority</th>\n",
       "      <th>time</th>\n",
       "      <th>age</th>\n",
       "      <th>expenses</th>\n",
       "      <th>income</th>\n",
       "      <th>assets</th>\n",
       "      <th>debt</th>\n",
       "      <th>amount</th>\n",
       "      <th>price</th>\n",
       "    </tr>\n",
       "  </thead>\n",
       "  <tbody>\n",
       "    <tr>\n",
       "      <th>count</th>\n",
       "      <td>4454.0</td>\n",
       "      <td>4454.0</td>\n",
       "      <td>4454.0</td>\n",
       "      <td>4454.0</td>\n",
       "      <td>4420.0</td>\n",
       "      <td>4407.0</td>\n",
       "      <td>4436.0</td>\n",
       "      <td>4454.0</td>\n",
       "      <td>4454.0</td>\n",
       "    </tr>\n",
       "    <tr>\n",
       "      <th>mean</th>\n",
       "      <td>8.0</td>\n",
       "      <td>46.0</td>\n",
       "      <td>37.0</td>\n",
       "      <td>56.0</td>\n",
       "      <td>131.0</td>\n",
       "      <td>5404.0</td>\n",
       "      <td>343.0</td>\n",
       "      <td>1039.0</td>\n",
       "      <td>1463.0</td>\n",
       "    </tr>\n",
       "    <tr>\n",
       "      <th>std</th>\n",
       "      <td>8.0</td>\n",
       "      <td>15.0</td>\n",
       "      <td>11.0</td>\n",
       "      <td>20.0</td>\n",
       "      <td>86.0</td>\n",
       "      <td>11574.0</td>\n",
       "      <td>1246.0</td>\n",
       "      <td>475.0</td>\n",
       "      <td>628.0</td>\n",
       "    </tr>\n",
       "    <tr>\n",
       "      <th>min</th>\n",
       "      <td>0.0</td>\n",
       "      <td>6.0</td>\n",
       "      <td>18.0</td>\n",
       "      <td>35.0</td>\n",
       "      <td>0.0</td>\n",
       "      <td>0.0</td>\n",
       "      <td>0.0</td>\n",
       "      <td>100.0</td>\n",
       "      <td>105.0</td>\n",
       "    </tr>\n",
       "    <tr>\n",
       "      <th>25%</th>\n",
       "      <td>2.0</td>\n",
       "      <td>36.0</td>\n",
       "      <td>28.0</td>\n",
       "      <td>35.0</td>\n",
       "      <td>80.0</td>\n",
       "      <td>0.0</td>\n",
       "      <td>0.0</td>\n",
       "      <td>700.0</td>\n",
       "      <td>1117.0</td>\n",
       "    </tr>\n",
       "    <tr>\n",
       "      <th>50%</th>\n",
       "      <td>5.0</td>\n",
       "      <td>48.0</td>\n",
       "      <td>36.0</td>\n",
       "      <td>51.0</td>\n",
       "      <td>120.0</td>\n",
       "      <td>3000.0</td>\n",
       "      <td>0.0</td>\n",
       "      <td>1000.0</td>\n",
       "      <td>1400.0</td>\n",
       "    </tr>\n",
       "    <tr>\n",
       "      <th>75%</th>\n",
       "      <td>12.0</td>\n",
       "      <td>60.0</td>\n",
       "      <td>45.0</td>\n",
       "      <td>72.0</td>\n",
       "      <td>165.0</td>\n",
       "      <td>6000.0</td>\n",
       "      <td>0.0</td>\n",
       "      <td>1300.0</td>\n",
       "      <td>1692.0</td>\n",
       "    </tr>\n",
       "    <tr>\n",
       "      <th>max</th>\n",
       "      <td>48.0</td>\n",
       "      <td>72.0</td>\n",
       "      <td>68.0</td>\n",
       "      <td>180.0</td>\n",
       "      <td>959.0</td>\n",
       "      <td>300000.0</td>\n",
       "      <td>30000.0</td>\n",
       "      <td>5000.0</td>\n",
       "      <td>11140.0</td>\n",
       "    </tr>\n",
       "  </tbody>\n",
       "</table>\n",
       "</div>"
      ],
      "text/plain": [
       "       seniority    time     age  expenses  income    assets     debt  amount  \\\n",
       "count     4454.0  4454.0  4454.0    4454.0  4420.0    4407.0   4436.0  4454.0   \n",
       "mean         8.0    46.0    37.0      56.0   131.0    5404.0    343.0  1039.0   \n",
       "std          8.0    15.0    11.0      20.0    86.0   11574.0   1246.0   475.0   \n",
       "min          0.0     6.0    18.0      35.0     0.0       0.0      0.0   100.0   \n",
       "25%          2.0    36.0    28.0      35.0    80.0       0.0      0.0   700.0   \n",
       "50%          5.0    48.0    36.0      51.0   120.0    3000.0      0.0  1000.0   \n",
       "75%         12.0    60.0    45.0      72.0   165.0    6000.0      0.0  1300.0   \n",
       "max         48.0    72.0    68.0     180.0   959.0  300000.0  30000.0  5000.0   \n",
       "\n",
       "         price  \n",
       "count   4454.0  \n",
       "mean    1463.0  \n",
       "std      628.0  \n",
       "min      105.0  \n",
       "25%     1117.0  \n",
       "50%     1400.0  \n",
       "75%     1692.0  \n",
       "max    11140.0  "
      ]
     },
     "execution_count": 6,
     "metadata": {},
     "output_type": "execute_result"
    }
   ],
   "source": [
    "df.describe().round()"
   ]
  },
  {
   "cell_type": "code",
   "execution_count": 7,
   "metadata": {
    "id": "nLsisztiMswG"
   },
   "outputs": [],
   "source": [
    "df_train, df_test = train_test_split(df, test_size=0.2, random_state=11)\n",
    "\n",
    "df_train = df_train.reset_index(drop=True)\n",
    "df_test = df_test.reset_index(drop=True)\n",
    "\n",
    "y_train = (df_train.status == 'default').astype('int').values\n",
    "y_test = (df_test.status == 'default').astype('int').values\n",
    "\n",
    "del df_train['status']\n",
    "del df_test['status']"
   ]
  },
  {
   "cell_type": "code",
   "execution_count": 8,
   "metadata": {
    "id": "Lwzm1jZuMstj"
   },
   "outputs": [],
   "source": [
    "dv = DictVectorizer(sparse=False)\n",
    "\n",
    "train_dicts = df_train.fillna(0).to_dict(orient='records')\n",
    "X_train = dv.fit_transform(train_dicts)\n",
    "\n",
    "test_dicts = df_test.fillna(0).to_dict(orient='records')\n",
    "X_test = dv.transform(test_dicts)"
   ]
  },
  {
   "cell_type": "markdown",
   "metadata": {
    "id": "wdWO8_lnMx5Z"
   },
   "source": [
    "**Random forest**\n"
   ]
  },
  {
   "cell_type": "code",
   "execution_count": 9,
   "metadata": {
    "colab": {
     "base_uri": "https://localhost:8080/"
    },
    "id": "d0i--NF9MsrT",
    "outputId": "d39d80e4-c5ee-4be2-8fdd-682cd7717409"
   },
   "outputs": [
    {
     "data": {
      "text/html": [
       "<style>#sk-container-id-1 {color: black;background-color: white;}#sk-container-id-1 pre{padding: 0;}#sk-container-id-1 div.sk-toggleable {background-color: white;}#sk-container-id-1 label.sk-toggleable__label {cursor: pointer;display: block;width: 100%;margin-bottom: 0;padding: 0.3em;box-sizing: border-box;text-align: center;}#sk-container-id-1 label.sk-toggleable__label-arrow:before {content: \"▸\";float: left;margin-right: 0.25em;color: #696969;}#sk-container-id-1 label.sk-toggleable__label-arrow:hover:before {color: black;}#sk-container-id-1 div.sk-estimator:hover label.sk-toggleable__label-arrow:before {color: black;}#sk-container-id-1 div.sk-toggleable__content {max-height: 0;max-width: 0;overflow: hidden;text-align: left;background-color: #f0f8ff;}#sk-container-id-1 div.sk-toggleable__content pre {margin: 0.2em;color: black;border-radius: 0.25em;background-color: #f0f8ff;}#sk-container-id-1 input.sk-toggleable__control:checked~div.sk-toggleable__content {max-height: 200px;max-width: 100%;overflow: auto;}#sk-container-id-1 input.sk-toggleable__control:checked~label.sk-toggleable__label-arrow:before {content: \"▾\";}#sk-container-id-1 div.sk-estimator input.sk-toggleable__control:checked~label.sk-toggleable__label {background-color: #d4ebff;}#sk-container-id-1 div.sk-label input.sk-toggleable__control:checked~label.sk-toggleable__label {background-color: #d4ebff;}#sk-container-id-1 input.sk-hidden--visually {border: 0;clip: rect(1px 1px 1px 1px);clip: rect(1px, 1px, 1px, 1px);height: 1px;margin: -1px;overflow: hidden;padding: 0;position: absolute;width: 1px;}#sk-container-id-1 div.sk-estimator {font-family: monospace;background-color: #f0f8ff;border: 1px dotted black;border-radius: 0.25em;box-sizing: border-box;margin-bottom: 0.5em;}#sk-container-id-1 div.sk-estimator:hover {background-color: #d4ebff;}#sk-container-id-1 div.sk-parallel-item::after {content: \"\";width: 100%;border-bottom: 1px solid gray;flex-grow: 1;}#sk-container-id-1 div.sk-label:hover label.sk-toggleable__label {background-color: #d4ebff;}#sk-container-id-1 div.sk-serial::before {content: \"\";position: absolute;border-left: 1px solid gray;box-sizing: border-box;top: 0;bottom: 0;left: 50%;z-index: 0;}#sk-container-id-1 div.sk-serial {display: flex;flex-direction: column;align-items: center;background-color: white;padding-right: 0.2em;padding-left: 0.2em;position: relative;}#sk-container-id-1 div.sk-item {position: relative;z-index: 1;}#sk-container-id-1 div.sk-parallel {display: flex;align-items: stretch;justify-content: center;background-color: white;position: relative;}#sk-container-id-1 div.sk-item::before, #sk-container-id-1 div.sk-parallel-item::before {content: \"\";position: absolute;border-left: 1px solid gray;box-sizing: border-box;top: 0;bottom: 0;left: 50%;z-index: -1;}#sk-container-id-1 div.sk-parallel-item {display: flex;flex-direction: column;z-index: 1;position: relative;background-color: white;}#sk-container-id-1 div.sk-parallel-item:first-child::after {align-self: flex-end;width: 50%;}#sk-container-id-1 div.sk-parallel-item:last-child::after {align-self: flex-start;width: 50%;}#sk-container-id-1 div.sk-parallel-item:only-child::after {width: 0;}#sk-container-id-1 div.sk-dashed-wrapped {border: 1px dashed gray;margin: 0 0.4em 0.5em 0.4em;box-sizing: border-box;padding-bottom: 0.4em;background-color: white;}#sk-container-id-1 div.sk-label label {font-family: monospace;font-weight: bold;display: inline-block;line-height: 1.2em;}#sk-container-id-1 div.sk-label-container {text-align: center;}#sk-container-id-1 div.sk-container {/* jupyter's `normalize.less` sets `[hidden] { display: none; }` but bootstrap.min.css set `[hidden] { display: none !important; }` so we also need the `!important` here to be able to override the default hidden behavior on the sphinx rendered scikit-learn.org. See: https://github.com/scikit-learn/scikit-learn/issues/21755 */display: inline-block !important;position: relative;}#sk-container-id-1 div.sk-text-repr-fallback {display: none;}</style><div id=\"sk-container-id-1\" class=\"sk-top-container\"><div class=\"sk-text-repr-fallback\"><pre>RandomForestClassifier(max_depth=10, min_samples_leaf=3, n_estimators=200,\n",
       "                       random_state=1)</pre><b>In a Jupyter environment, please rerun this cell to show the HTML representation or trust the notebook. <br />On GitHub, the HTML representation is unable to render, please try loading this page with nbviewer.org.</b></div><div class=\"sk-container\" hidden><div class=\"sk-item\"><div class=\"sk-estimator sk-toggleable\"><input class=\"sk-toggleable__control sk-hidden--visually\" id=\"sk-estimator-id-1\" type=\"checkbox\" checked><label for=\"sk-estimator-id-1\" class=\"sk-toggleable__label sk-toggleable__label-arrow\">RandomForestClassifier</label><div class=\"sk-toggleable__content\"><pre>RandomForestClassifier(max_depth=10, min_samples_leaf=3, n_estimators=200,\n",
       "                       random_state=1)</pre></div></div></div></div></div>"
      ],
      "text/plain": [
       "RandomForestClassifier(max_depth=10, min_samples_leaf=3, n_estimators=200,\n",
       "                       random_state=1)"
      ]
     },
     "execution_count": 9,
     "metadata": {},
     "output_type": "execute_result"
    }
   ],
   "source": [
    "rf = RandomForestClassifier(n_estimators=200,\n",
    "                            max_depth=10,\n",
    "                            min_samples_leaf=3,\n",
    "                            random_state=1)\n",
    "rf.fit(X_train, y_train)"
   ]
  },
  {
   "cell_type": "markdown",
   "metadata": {
    "id": "M9VBGyHpM1Io"
   },
   "source": [
    "**XGBoost**\n",
    "\n",
    "Note:\n",
    "\n",
    "We removed feature names\n",
    "\n",
    "It was\n",
    "\n",
    "features = dv.get_feature_names_out()\n",
    "\n",
    "dtrain = xgb.DMatrix(X_train, label=y_train, feature_names=features)\n",
    "\n",
    "Now it's\n",
    "\n",
    "dtrain = xgb.DMatrix(X_train, label=y_train)"
   ]
  },
  {
   "cell_type": "code",
   "execution_count": 10,
   "metadata": {
    "id": "Q5DZLJe8Mso6"
   },
   "outputs": [],
   "source": [
    "# Contruct DMatrix for train and test sets\n",
    "\n",
    "dtrain = xgb.DMatrix(X_train, label=y_train)\n",
    "dtest = xgb.DMatrix(data=X_test, label=y_test)"
   ]
  },
  {
   "cell_type": "code",
   "execution_count": 11,
   "metadata": {
    "id": "bq8KLKoPMsmc"
   },
   "outputs": [],
   "source": [
    "xgb_params = {\n",
    "    'eta': 0.1, \n",
    "    'max_depth': 3,\n",
    "    'min_child_weight': 1,\n",
    "\n",
    "    'objective': 'binary:logistic',\n",
    "    'eval_metric': 'auc',\n",
    "\n",
    "    'nthread': 8,\n",
    "    'seed': 1,\n",
    "    'verbosity': 1,\n",
    "}\n",
    "\n",
    "model = xgb.train(xgb_params, dtrain, num_boost_round=175)"
   ]
  },
  {
   "cell_type": "code",
   "execution_count": 12,
   "metadata": {
    "colab": {
     "base_uri": "https://localhost:8080/"
    },
    "id": "voSW9FjfVGuI",
    "outputId": "2898996c-bcea-438e-c1f8-a43cb75dfc79"
   },
   "outputs": [
    {
     "data": {
      "text/plain": [
       "0.8324067738624701"
      ]
     },
     "execution_count": 12,
     "metadata": {},
     "output_type": "execute_result"
    }
   ],
   "source": [
    "# Make predictions and calculate auc\n",
    "\n",
    "y_pred = model.predict(dtest)\n",
    "roc_auc_score(y_test, y_pred)"
   ]
  },
  {
   "cell_type": "markdown",
   "metadata": {
    "id": "ifBj56LKSWl9"
   },
   "source": [
    "## Question 1\n",
    "\n",
    "- Install BentoML\n",
    "- What's the version of BentoML you installed?\n",
    "- Use --version to find out"
   ]
  },
  {
   "cell_type": "markdown",
   "metadata": {
    "id": "xCyuN-taNEUe"
   },
   "source": [
    "**BentoML**"
   ]
  },
  {
   "cell_type": "code",
   "execution_count": 13,
   "metadata": {
    "collapsed": true,
    "id": "kD3zDj1NRCGL"
   },
   "outputs": [
    {
     "name": "stdout",
     "output_type": "stream",
     "text": [
      "Requirement already satisfied: Jinja2 in c:\\users\\uuror\\anaconda3\\lib\\site-packages (3.1.2)\n",
      "Requirement already satisfied: MarkupSafe>=2.0 in c:\\users\\uuror\\anaconda3\\lib\\site-packages (from Jinja2) (2.0.1)\n"
     ]
    }
   ],
   "source": [
    "!pip install Jinja2"
   ]
  },
  {
   "cell_type": "code",
   "execution_count": 14,
   "metadata": {
    "collapsed": true,
    "id": "kXt_Z8YBQvb-"
   },
   "outputs": [
    {
     "name": "stdout",
     "output_type": "stream",
     "text": [
      "Requirement already satisfied: bentoml in c:\\users\\uuror\\anaconda3\\lib\\site-packages (1.0.7)\n",
      "Requirement already satisfied: attrs>=21.1.0 in c:\\users\\uuror\\anaconda3\\lib\\site-packages (from bentoml) (21.4.0)\n",
      "Requirement already satisfied: psutil in c:\\users\\uuror\\appdata\\roaming\\python\\python39\\site-packages (from bentoml) (5.9.2)\n",
      "Requirement already satisfied: numpy in c:\\users\\uuror\\anaconda3\\lib\\site-packages (from bentoml) (1.21.5)\n",
      "Requirement already satisfied: starlette in c:\\users\\uuror\\anaconda3\\lib\\site-packages (from bentoml) (0.21.0)\n",
      "Requirement already satisfied: cloudpickle in c:\\users\\uuror\\anaconda3\\lib\\site-packages (from bentoml) (2.0.0)\n",
      "Requirement already satisfied: circus in c:\\users\\uuror\\anaconda3\\lib\\site-packages (from bentoml) (0.17.1)\n",
      "Requirement already satisfied: python-multipart in c:\\users\\uuror\\anaconda3\\lib\\site-packages (from bentoml) (0.0.5)\n",
      "Requirement already satisfied: Jinja2>=3.0.1 in c:\\users\\uuror\\anaconda3\\lib\\site-packages (from bentoml) (3.1.2)\n",
      "Requirement already satisfied: deepmerge in c:\\users\\uuror\\anaconda3\\lib\\site-packages (from bentoml) (1.0.1)\n",
      "Requirement already satisfied: pip-tools>=6.6.2 in c:\\users\\uuror\\anaconda3\\lib\\site-packages (from bentoml) (6.9.0)\n",
      "Requirement already satisfied: requests in c:\\users\\uuror\\anaconda3\\lib\\site-packages (from bentoml) (2.27.1)\n",
      "Requirement already satisfied: aiohttp in c:\\users\\uuror\\anaconda3\\lib\\site-packages (from bentoml) (3.8.1)\n",
      "Requirement already satisfied: opentelemetry-util-http==0.33b0 in c:\\users\\uuror\\anaconda3\\lib\\site-packages (from bentoml) (0.33b0)\n",
      "Requirement already satisfied: fs in c:\\users\\uuror\\anaconda3\\lib\\site-packages (from bentoml) (2.4.16)\n",
      "Requirement already satisfied: PyYAML>=5.0 in c:\\users\\uuror\\anaconda3\\lib\\site-packages (from bentoml) (6.0)\n",
      "Requirement already satisfied: click>=7.0 in c:\\users\\uuror\\anaconda3\\lib\\site-packages (from bentoml) (8.0.4)\n",
      "Requirement already satisfied: python-dotenv>=0.20.0 in c:\\users\\uuror\\anaconda3\\lib\\site-packages (from bentoml) (0.21.0)\n",
      "Requirement already satisfied: rich>=11.2.0 in c:\\users\\uuror\\anaconda3\\lib\\site-packages (from bentoml) (12.6.0)\n",
      "Requirement already satisfied: opentelemetry-instrumentation-asgi==0.33b0 in c:\\users\\uuror\\anaconda3\\lib\\site-packages (from bentoml) (0.33b0)\n",
      "Requirement already satisfied: opentelemetry-api>=1.9.0 in c:\\users\\uuror\\anaconda3\\lib\\site-packages (from bentoml) (1.12.0)\n",
      "Requirement already satisfied: prometheus-client>=0.10.0 in c:\\users\\uuror\\anaconda3\\lib\\site-packages (from bentoml) (0.13.1)\n",
      "Requirement already satisfied: opentelemetry-instrumentation==0.33b0 in c:\\users\\uuror\\anaconda3\\lib\\site-packages (from bentoml) (0.33b0)\n",
      "Requirement already satisfied: schema in c:\\users\\uuror\\anaconda3\\lib\\site-packages (from bentoml) (0.7.5)\n",
      "Requirement already satisfied: python-dateutil in c:\\users\\uuror\\anaconda3\\lib\\site-packages (from bentoml) (2.8.2)\n",
      "Requirement already satisfied: pynvml<12 in c:\\users\\uuror\\anaconda3\\lib\\site-packages (from bentoml) (11.4.1)\n",
      "Requirement already satisfied: cattrs>=22.1.0 in c:\\users\\uuror\\anaconda3\\lib\\site-packages (from bentoml) (22.2.0)\n",
      "Requirement already satisfied: uvicorn in c:\\users\\uuror\\anaconda3\\lib\\site-packages (from bentoml) (0.19.0)\n",
      "Requirement already satisfied: opentelemetry-instrumentation-aiohttp-client==0.33b0 in c:\\users\\uuror\\anaconda3\\lib\\site-packages (from bentoml) (0.33b0)\n",
      "Requirement already satisfied: pathspec in c:\\users\\uuror\\anaconda3\\lib\\site-packages (from bentoml) (0.7.0)\n",
      "Requirement already satisfied: opentelemetry-semantic-conventions==0.33b0 in c:\\users\\uuror\\anaconda3\\lib\\site-packages (from bentoml) (0.33b0)\n",
      "Requirement already satisfied: simple-di>=0.1.4 in c:\\users\\uuror\\anaconda3\\lib\\site-packages (from bentoml) (0.1.5)\n",
      "Requirement already satisfied: packaging>=20.0 in c:\\users\\uuror\\anaconda3\\lib\\site-packages (from bentoml) (21.3)\n",
      "Requirement already satisfied: opentelemetry-sdk>=1.9.0 in c:\\users\\uuror\\anaconda3\\lib\\site-packages (from bentoml) (1.12.0)\n",
      "Requirement already satisfied: watchfiles>=0.15.0 in c:\\users\\uuror\\anaconda3\\lib\\site-packages (from bentoml) (0.18.0)\n",
      "Requirement already satisfied: wrapt<2.0.0,>=1.0.0 in c:\\users\\uuror\\anaconda3\\lib\\site-packages (from opentelemetry-instrumentation==0.33b0->bentoml) (1.12.1)\n",
      "Requirement already satisfied: setuptools>=16.0 in c:\\users\\uuror\\anaconda3\\lib\\site-packages (from opentelemetry-instrumentation==0.33b0->bentoml) (61.2.0)\n",
      "Requirement already satisfied: asgiref~=3.0 in c:\\users\\uuror\\anaconda3\\lib\\site-packages (from opentelemetry-instrumentation-asgi==0.33b0->bentoml) (3.5.2)\n",
      "Requirement already satisfied: exceptiongroup in c:\\users\\uuror\\anaconda3\\lib\\site-packages (from cattrs>=22.1.0->bentoml) (1.0.0rc9)\n",
      "Requirement already satisfied: colorama in c:\\users\\uuror\\appdata\\roaming\\python\\python39\\site-packages (from click>=7.0->bentoml) (0.4.5)\n",
      "Requirement already satisfied: MarkupSafe>=2.0 in c:\\users\\uuror\\anaconda3\\lib\\site-packages (from Jinja2>=3.0.1->bentoml) (2.0.1)\n",
      "Requirement already satisfied: Deprecated>=1.2.6 in c:\\users\\uuror\\anaconda3\\lib\\site-packages (from opentelemetry-api>=1.9.0->bentoml) (1.2.13)\n",
      "Requirement already satisfied: typing-extensions>=3.7.4 in c:\\users\\uuror\\anaconda3\\lib\\site-packages (from opentelemetry-sdk>=1.9.0->bentoml) (4.1.1)\n",
      "Requirement already satisfied: pyparsing!=3.0.5,>=2.0.2 in c:\\users\\uuror\\anaconda3\\lib\\site-packages (from packaging>=20.0->bentoml) (3.0.4)\n",
      "Requirement already satisfied: pip>=21.2 in c:\\users\\uuror\\anaconda3\\lib\\site-packages (from pip-tools>=6.6.2->bentoml) (21.2.4)\n",
      "Requirement already satisfied: wheel in c:\\users\\uuror\\anaconda3\\lib\\site-packages (from pip-tools>=6.6.2->bentoml) (0.37.1)\n",
      "Requirement already satisfied: build in c:\\users\\uuror\\anaconda3\\lib\\site-packages (from pip-tools>=6.6.2->bentoml) (0.8.0)\n",
      "Requirement already satisfied: commonmark<0.10.0,>=0.9.0 in c:\\users\\uuror\\anaconda3\\lib\\site-packages (from rich>=11.2.0->bentoml) (0.9.1)\n",
      "Requirement already satisfied: pygments<3.0.0,>=2.6.0 in c:\\users\\uuror\\appdata\\roaming\\python\\python39\\site-packages (from rich>=11.2.0->bentoml) (2.13.0)\n",
      "Requirement already satisfied: anyio<4,>=3.0.0 in c:\\users\\uuror\\anaconda3\\lib\\site-packages (from watchfiles>=0.15.0->bentoml) (3.5.0)\n",
      "Requirement already satisfied: idna>=2.8 in c:\\users\\uuror\\anaconda3\\lib\\site-packages (from anyio<4,>=3.0.0->watchfiles>=0.15.0->bentoml) (3.3)\n",
      "Requirement already satisfied: sniffio>=1.1 in c:\\users\\uuror\\anaconda3\\lib\\site-packages (from anyio<4,>=3.0.0->watchfiles>=0.15.0->bentoml) (1.2.0)\n",
      "Requirement already satisfied: aiosignal>=1.1.2 in c:\\users\\uuror\\anaconda3\\lib\\site-packages (from aiohttp->bentoml) (1.2.0)\n",
      "Requirement already satisfied: async-timeout<5.0,>=4.0.0a3 in c:\\users\\uuror\\anaconda3\\lib\\site-packages (from aiohttp->bentoml) (4.0.1)\n",
      "Requirement already satisfied: multidict<7.0,>=4.5 in c:\\users\\uuror\\anaconda3\\lib\\site-packages (from aiohttp->bentoml) (5.1.0)\n",
      "Requirement already satisfied: yarl<2.0,>=1.0 in c:\\users\\uuror\\anaconda3\\lib\\site-packages (from aiohttp->bentoml) (1.6.3)\n",
      "Requirement already satisfied: frozenlist>=1.1.1 in c:\\users\\uuror\\anaconda3\\lib\\site-packages (from aiohttp->bentoml) (1.2.0)\n",
      "Requirement already satisfied: charset-normalizer<3.0,>=2.0 in c:\\users\\uuror\\anaconda3\\lib\\site-packages (from aiohttp->bentoml) (2.0.4)\n",
      "Requirement already satisfied: pep517>=0.9.1 in c:\\users\\uuror\\anaconda3\\lib\\site-packages (from build->pip-tools>=6.6.2->bentoml) (0.13.0)\n",
      "Requirement already satisfied: tomli>=1.0.0 in c:\\users\\uuror\\anaconda3\\lib\\site-packages (from build->pip-tools>=6.6.2->bentoml) (1.2.2)\n",
      "Requirement already satisfied: tornado>=5.0.2 in c:\\users\\uuror\\appdata\\roaming\\python\\python39\\site-packages (from circus->bentoml) (6.2)\n",
      "Requirement already satisfied: pyzmq>=17.0 in c:\\users\\uuror\\appdata\\roaming\\python\\python39\\site-packages (from circus->bentoml) (23.2.1)\n",
      "Requirement already satisfied: appdirs~=1.4.3 in c:\\users\\uuror\\anaconda3\\lib\\site-packages (from fs->bentoml) (1.4.4)\n",
      "Requirement already satisfied: six~=1.10 in c:\\users\\uuror\\anaconda3\\lib\\site-packages (from fs->bentoml) (1.16.0)\n",
      "Requirement already satisfied: certifi>=2017.4.17 in c:\\users\\uuror\\anaconda3\\lib\\site-packages (from requests->bentoml) (2022.9.24)\n",
      "Requirement already satisfied: urllib3<1.27,>=1.21.1 in c:\\users\\uuror\\anaconda3\\lib\\site-packages (from requests->bentoml) (1.26.9)\n",
      "Requirement already satisfied: contextlib2>=0.5.5 in c:\\users\\uuror\\anaconda3\\lib\\site-packages (from schema->bentoml) (21.6.0)\n",
      "Requirement already satisfied: h11>=0.8 in c:\\users\\uuror\\anaconda3\\lib\\site-packages (from uvicorn->bentoml) (0.14.0)\n"
     ]
    }
   ],
   "source": [
    "!pip install bentoml"
   ]
  },
  {
   "cell_type": "code",
   "execution_count": 16,
   "metadata": {
    "id": "bu6PUNseNDB8"
   },
   "outputs": [],
   "source": [
    "import bentoml"
   ]
  },
  {
   "cell_type": "code",
   "execution_count": 17,
   "metadata": {
    "colab": {
     "base_uri": "https://localhost:8080/"
    },
    "id": "C9MMLxkWRUbI",
    "outputId": "f73e44d7-81a4-472f-8d91-16b8a7822488"
   },
   "outputs": [
    {
     "name": "stdout",
     "output_type": "stream",
     "text": [
      "bentoml, version 1.0.7\n"
     ]
    }
   ],
   "source": [
    "# Check the current version of bentoml\n",
    "\n",
    "!bentoml --version"
   ]
  },
  {
   "cell_type": "markdown",
   "metadata": {},
   "source": [
    "## Question 2\n",
    "\n",
    "Run the notebook which contains the xgboost model from module 6 i.e previous module and save the xgboost model with BentoML. To make it easier for you we have prepared this notebook.\n",
    "\n",
    "How big approximately is the saved BentoML model? Size can slightly vary depending on your local development environment. Choose the size closest to your model.\n",
    "\n",
    "- 924kb\n",
    "- 724kb\n",
    "- **114kb**\n",
    "- 8kb"
   ]
  },
  {
   "cell_type": "code",
   "execution_count": 18,
   "metadata": {
    "colab": {
     "base_uri": "https://localhost:8080/"
    },
    "id": "DdJVO2MbNDAF",
    "outputId": "1a148054-66b1-4cc9-8084-37bafb4035e1"
   },
   "outputs": [
    {
     "data": {
      "text/plain": [
       "Model(tag=\"credit_risk_model:to3ci7ktd2gqqtgm\", path=\"C:\\Users\\uuror\\bentoml\\models\\credit_risk_model\\to3ci7ktd2gqqtgm\\\")"
      ]
     },
     "execution_count": 18,
     "metadata": {},
     "output_type": "execute_result"
    }
   ],
   "source": [
    "# Save the xgboost model\n",
    "bentoml.xgboost.save_model(\n",
    "    'credit_risk_model',\n",
    "    model,\n",
    "    custom_objects={\n",
    "        'dictVectorizer': dv\n",
    "    })"
   ]
  },
  {
   "cell_type": "markdown",
   "metadata": {},
   "source": [
    "Size is arround 116 KB in folder."
   ]
  },
  {
   "cell_type": "markdown",
   "metadata": {
    "id": "f6W6z5fWNKEt"
   },
   "source": [
    "**Test**"
   ]
  },
  {
   "cell_type": "code",
   "execution_count": 19,
   "metadata": {
    "id": "bqs0LDAxNC96"
   },
   "outputs": [],
   "source": [
    "import json"
   ]
  },
  {
   "cell_type": "code",
   "execution_count": 20,
   "metadata": {
    "colab": {
     "base_uri": "https://localhost:8080/"
    },
    "id": "9FqqT6-ONC7m",
    "outputId": "533ba413-28c3-4fa9-e1c2-18483e8e866e"
   },
   "outputs": [
    {
     "name": "stdout",
     "output_type": "stream",
     "text": [
      "{\n",
      "  \"seniority\": 3,\n",
      "  \"home\": \"owner\",\n",
      "  \"time\": 36,\n",
      "  \"age\": 26,\n",
      "  \"marital\": \"single\",\n",
      "  \"records\": \"no\",\n",
      "  \"job\": \"freelance\",\n",
      "  \"expenses\": 35,\n",
      "  \"income\": 0.0,\n",
      "  \"assets\": 60000.0,\n",
      "  \"debt\": 3000.0,\n",
      "  \"amount\": 800,\n",
      "  \"price\": 1000\n",
      "}\n"
     ]
    }
   ],
   "source": [
    "request = df_test.iloc[0].to_dict()\n",
    "print(json.dumps(request, indent=2))"
   ]
  },
  {
   "cell_type": "markdown",
   "metadata": {
    "id": "cnL7H1OMNC5K"
   },
   "source": [
    "**Another email from your manager**\n",
    "\n",
    "Great job recruit! Looks like I won't be having to go back to the procurement team. Thanks for the information.\n",
    "\n",
    "However, I just got word from one of the teams that's using one of our ML services and they're saying our service is \"broken\" and their trying to blame our model. I looked at the data their sending and it's completely bogus. I don't want them to send bad data to us and blame us for our models. Could you write a pydantic schema for the data that they should be sending? That way next time it will tell them it's their data that's bad and not our model.\n",
    "\n",
    "Thanks,\n",
    "\n",
    "Mr McManager"
   ]
  },
  {
   "cell_type": "markdown",
   "metadata": {
    "id": "omAaZgX2NC2g"
   },
   "source": [
    "## Question 3\n",
    "\n",
    "Say you have the following data that you're sending to your service:\n",
    "\n",
    "{\n",
    "  \"name\": \"Tim\",\n",
    "  \"age\": 37,\n",
    "  \"country\": \"US\",\n",
    "  \"rating\": 3.14\n",
    "}\n",
    "\n",
    "What would the pydantic class look like? You can name the class UserProfile."
   ]
  },
  {
   "cell_type": "code",
   "execution_count": 21,
   "metadata": {
    "collapsed": true
   },
   "outputs": [
    {
     "ename": "NameError",
     "evalue": "name 'string' is not defined",
     "output_type": "error",
     "traceback": [
      "\u001b[1;31m---------------------------------------------------------------------------\u001b[0m",
      "\u001b[1;31mNameError\u001b[0m                                 Traceback (most recent call last)",
      "Cell \u001b[1;32mIn [21], line 7\u001b[0m\n\u001b[0;32m      3\u001b[0m \u001b[38;5;28;01mfrom\u001b[39;00m \u001b[38;5;21;01mbentoml\u001b[39;00m\u001b[38;5;21;01m.\u001b[39;00m\u001b[38;5;21;01mio\u001b[39;00m \u001b[38;5;28;01mimport\u001b[39;00m JSON\n\u001b[0;32m      5\u001b[0m \u001b[38;5;28;01mfrom\u001b[39;00m \u001b[38;5;21;01mpydantic\u001b[39;00m \u001b[38;5;28;01mimport\u001b[39;00m BaseModel\n\u001b[1;32m----> 7\u001b[0m \u001b[38;5;28;01mclass\u001b[39;00m \u001b[38;5;21;01mCreditApplication\u001b[39;00m(BaseModel):\n\u001b[0;32m      8\u001b[0m     name : string\n\u001b[0;32m      9\u001b[0m     age : integer\n",
      "Cell \u001b[1;32mIn [21], line 8\u001b[0m, in \u001b[0;36mCreditApplication\u001b[1;34m()\u001b[0m\n\u001b[0;32m      7\u001b[0m \u001b[38;5;28;01mclass\u001b[39;00m \u001b[38;5;21;01mCreditApplication\u001b[39;00m(BaseModel):\n\u001b[1;32m----> 8\u001b[0m     name : \u001b[43mstring\u001b[49m\n\u001b[0;32m      9\u001b[0m     age : integer\n\u001b[0;32m     10\u001b[0m     country : string\n",
      "\u001b[1;31mNameError\u001b[0m: name 'string' is not defined"
     ]
    }
   ],
   "source": [
    "import bentoml\n",
    "\n",
    "from bentoml.io import JSON\n",
    "\n",
    "from pydantic import BaseModel\n",
    "\n",
    "class UserProfile(BaseModel):\n",
    "    name: str\n",
    "    age: int\n",
    "    country: str\n",
    "    rating: float"
   ]
  },
  {
   "cell_type": "markdown",
   "metadata": {},
   "source": [
    "**Email from your CEO***\n",
    "\n",
    "Good morning! I hear you're the one to go to if I need something done well! We've got a new model that a big client needs deployed ASAP. I need you to build a service with it and test it against the old model and make sure that it performs better, otherwise we're going to lose this client. All our hopes are with you!\n",
    "\n",
    "Thanks,\n",
    "\n",
    "CEO of Acme Corp"
   ]
  },
  {
   "cell_type": "markdown",
   "metadata": {},
   "source": [
    "## Question 4\n",
    "\n",
    "We've prepared a model for you that you can import using:\n",
    "\n",
    "curl -O https://s3.us-west-2.amazonaws.com/bentoml.com/mlzoomcamp/coolmodel.bentomodel\n",
    "\n",
    "bentoml models import coolmodel.bentomodel\n",
    "\n",
    "What version of scikit-learn was this model trained with?\n",
    "\n",
    "- **1.1.1**\n",
    "- 1.1.2\n",
    "- 1.1.3\n",
    "- 1.1.4\n",
    "- 1.1.5\n",
    "Questio"
   ]
  },
  {
   "cell_type": "markdown",
   "metadata": {},
   "source": [
    "bentoml models get mlzoomcamp_homework:qtzdz3slg6mwwdu5\n",
    "\n",
    "- name: mlzoomcamp_homework\n",
    "- version: qtzdz3slg6mwwdu5\n",
    "- module: bentoml.sklearn\n",
    "- labels: {}\n",
    "- options: {}\n",
    "- metadata: {}\n",
    "- context:\n",
    "  - framework_name: sklearn\n",
    "  - framework_versions:\n",
    "    - scikit-learn: 1.1.1\n",
    "  - bentoml_version: 1.0.7\n",
    "  - python_version: 3.9.12\n",
    "- signatures:\n",
    "  - predict:\n",
    "    - batchable: false\n",
    "- api_version: v1\n",
    "- creation_time: '2022-10-13T20:42:14.411084+00:00'"
   ]
  },
  {
   "cell_type": "markdown",
   "metadata": {},
   "source": [
    "Answer is 1.1.1"
   ]
  },
  {
   "cell_type": "markdown",
   "metadata": {},
   "source": [
    "## Question 5\n",
    "\n",
    "Create a bento out of this scikit-learn model. The output type for this endpoint should be NumpyNdarray()\n",
    "\n",
    "Send this array to the Bento:\n",
    "\n",
    "[[6.4,3.5,4.5,1.2]]\n",
    "You can use curl or the Swagger UI. What value does it return?\n",
    "\n",
    "- 0\n",
    "- **1**\n",
    "- 2\n",
    "- 3\n",
    "\n",
    "(Make sure your environment has Scikit-Learn installed)"
   ]
  },
  {
   "cell_type": "code",
   "execution_count": null,
   "metadata": {},
   "outputs": [],
   "source": [
    "import bentoml\n",
    "from bentoml.io import NumpyNdarray\n",
    "import numpy as np\n",
    "\n",
    "\n",
    "model_ref = bentoml.sklearn.get(\"mlzoomcamp_homework:latest\")\n",
    "\n",
    "model_runner = bentoml.sklearn.get(\"mlzoomcamp_homework:latest\").to_runner()\n",
    "\n",
    "svc = bentoml.Service(\"mlzoomcamp_homework\", runners=[model_runner])\n",
    "\n",
    "@svc.api(input=NumpyNdarray(), output=NumpyNdarray()) \n",
    "def classify(vector):\n",
    "    prediction= model_runner.predict.run(vector)\n",
    "    return prediction \n",
    "\n",
    "# bentoml serve service1.py:svc --reload"
   ]
  },
  {
   "cell_type": "markdown",
   "metadata": {},
   "source": [
    "[[6.4,3.5,4.5,1.2]] returns\n",
    "[\n",
    "  1\n",
    "]"
   ]
  },
  {
   "cell_type": "markdown",
   "metadata": {},
   "source": [
    "## Question 6\n",
    "\n",
    "Ensure to serve your bento with --production for this question\n",
    "\n",
    "Install locust using:\n",
    "\n",
    "pip install locust\n",
    "\n",
    "Use the following locust file: locustfile.py\n",
    "\n",
    "Ensure that it is pointed at your bento's endpoint (In case you didn't name your endpoint \"classify\")\n",
    "\n"
   ]
  },
  {
   "cell_type": "markdown",
   "metadata": {},
   "source": [
    "<img src=\"https://github.com/alexeygrigorev/mlbookcamp-code/blob/master/course-zoomcamp/cohorts/2022/07-bento-production/resources/classify-endpoint.png?raw=true\"\n",
    "     align='left'>"
   ]
  },
  {
   "cell_type": "markdown",
   "metadata": {},
   "source": [
    "Configure 100 users with ramp time of 10 users per second. Click \"Start Swarming\" and ensure that it is working.\n",
    "\n",
    "Now download a second model with this command:"
   ]
  },
  {
   "cell_type": "markdown",
   "metadata": {},
   "source": [
    "curl -O https://s3.us-west-2.amazonaws.com/bentoml.com/mlzoomcamp/coolmodel2.bentomodel"
   ]
  },
  {
   "cell_type": "markdown",
   "metadata": {},
   "source": [
    "Or you can download with this link as well: https://s3.us-west-2.amazonaws.com/bentoml.com/mlzoomcamp/coolmodel2.bentomodel\n",
    "\n",
    "Now import the model:"
   ]
  },
  {
   "cell_type": "markdown",
   "metadata": {},
   "source": [
    "bentoml models import coolmodel2.bentomodel"
   ]
  },
  {
   "cell_type": "markdown",
   "metadata": {},
   "source": [
    "Update your bento's runner tag and test with both models. Which model allows more traffic (more throughput) as you ramp up the traffic?\n",
    "\n",
    "Hint 1: Remember to turn off and turn on your bento service between changing the model tag. Use Ctl-C to close the service in between trials.\n",
    "\n",
    "Hint 2: Increase the number of concurrent users to see which one has higher throughput\n",
    "\n",
    "Which model has better performance at higher volumes?\n",
    "\n",
    "- The first model\n",
    "- The second model"
   ]
  },
  {
   "cell_type": "code",
   "execution_count": null,
   "metadata": {},
   "outputs": [],
   "source": []
  },
  {
   "cell_type": "code",
   "execution_count": null,
   "metadata": {},
   "outputs": [],
   "source": []
  },
  {
   "cell_type": "code",
   "execution_count": null,
   "metadata": {},
   "outputs": [],
   "source": []
  },
  {
   "cell_type": "code",
   "execution_count": null,
   "metadata": {},
   "outputs": [],
   "source": []
  },
  {
   "cell_type": "code",
   "execution_count": null,
   "metadata": {},
   "outputs": [],
   "source": []
  },
  {
   "cell_type": "markdown",
   "metadata": {},
   "source": [
    "**Email from marketing**\n",
    "\n",
    "Hello ML person! I hope this email finds you well. I've heard there's this cool new ML model called Stable Diffusion. I hear if you give it a description of a picture it will generate an image. We need a new company logo and I want it to be fierce but also cool, think you could help out?\n",
    "\n",
    "Thanks,\n",
    "\n",
    "Mike Marketer"
   ]
  },
  {
   "cell_type": "markdown",
   "metadata": {},
   "source": [
    "## Question 7 (optional)\n",
    "\n",
    "Go to this Bento deployment of Stable Diffusion: http://54.176.205.174/ (or deploy it yourself)\n",
    "\n",
    "Use the txt2image endpoint and update the prompt to: \"A cartoon dragon with sunglasses\". Don't change the seed, it should be 0 by default\n",
    "\n",
    "What is the resulting image?\n",
    "\n",
    "#1"
   ]
  },
  {
   "cell_type": "markdown",
   "metadata": {},
   "source": [
    "<img src=\"https://github.com/alexeygrigorev/mlbookcamp-code/blob/master/course-zoomcamp/cohorts/2022/07-bento-production/resources/dragon1.jpeg?raw=true\"\n",
    "     align='left'>"
   ]
  },
  {
   "cell_type": "markdown",
   "metadata": {},
   "source": [
    "#2\n",
    "\n",
    "<img src=\"https://github.com/alexeygrigorev/mlbookcamp-code/raw/master/course-zoomcamp/cohorts/2022/07-bento-production/resources/dragon2.jpeg\"\n",
    "     align='left'>"
   ]
  },
  {
   "cell_type": "markdown",
   "metadata": {},
   "source": [
    "#3\n",
    "\n",
    "<img src=\"https://github.com/alexeygrigorev/mlbookcamp-code/raw/master/course-zoomcamp/cohorts/2022/07-bento-production/resources/dragon3.jpeg\"\n",
    "     align='left'>"
   ]
  },
  {
   "cell_type": "markdown",
   "metadata": {},
   "source": [
    "#4\n",
    "\n",
    "<img src=\"https://github.com/alexeygrigorev/mlbookcamp-code/raw/master/course-zoomcamp/cohorts/2022/07-bento-production/resources/dragon4.jpeg\"\n",
    "     align='left'>"
   ]
  },
  {
   "cell_type": "markdown",
   "metadata": {},
   "source": [
    "Submit the results\n",
    "\n",
    "- Submit your results here: https://forms.gle/Hh9FWy6LGXk3wJYs8\n",
    "- You can submit your solution multiple times. In this case, only the last submission will be used\n",
    "- If your answer doesn't match options exactly, select the closest one\n",
    "\n",
    "Deadline\n",
    "\n",
    "The deadline for submitting is 24 October 2022 (Monday), 23:00 CEST (Berlin time).\n",
    "\n",
    "After that, the form will be closed."
   ]
  },
  {
   "cell_type": "code",
   "execution_count": null,
   "metadata": {},
   "outputs": [],
   "source": []
  }
 ],
 "metadata": {
  "colab": {
   "provenance": []
  },
  "kernelspec": {
   "display_name": "Python 3 (ipykernel)",
   "language": "python",
   "name": "python3"
  },
  "language_info": {
   "codemirror_mode": {
    "name": "ipython",
    "version": 3
   },
   "file_extension": ".py",
   "mimetype": "text/x-python",
   "name": "python",
   "nbconvert_exporter": "python",
   "pygments_lexer": "ipython3",
   "version": "3.9.12"
  },
  "vscode": {
   "interpreter": {
    "hash": "43eedf42dcb7a6739ff77b2dc2f2bdd213cb69bbc904b33c1eacf30d24cc4da1"
   }
  }
 },
 "nbformat": 4,
 "nbformat_minor": 1
}
